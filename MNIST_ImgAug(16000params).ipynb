{
  "nbformat": 4,
  "nbformat_minor": 0,
  "metadata": {
    "colab": {
      "name": "Assignment3A.ipynb",
      "version": "0.3.2",
      "provenance": [],
      "collapsed_sections": []
    },
    "kernelspec": {
      "name": "python3",
      "display_name": "Python 3"
    },
    "accelerator": "GPU"
  },
  "cells": [
    {
      "metadata": {
        "id": "3m3w1Cw49Zkt",
        "colab_type": "code",
        "outputId": "0be6741b-2671-4862-a8d3-fbfb0b8665ae",
        "colab": {
          "base_uri": "https://localhost:8080/",
          "height": 34
        }
      },
      "cell_type": "code",
      "source": [
        "# https://keras.io/\n",
        "!pip install -q keras\n",
        "import keras"
      ],
      "execution_count": 0,
      "outputs": [
        {
          "output_type": "stream",
          "text": [
            "Using TensorFlow backend.\n"
          ],
          "name": "stderr"
        }
      ]
    },
    {
      "metadata": {
        "id": "Eso6UHE080D4",
        "colab_type": "code",
        "colab": {}
      },
      "cell_type": "code",
      "source": [
        "import numpy as np\n",
        "\n",
        "from keras.models import Sequential\n",
        "from keras.layers import Dense, Dropout, Activation, Flatten, Add\n",
        "from keras.layers import Convolution2D, MaxPooling2D\n",
        "from keras.utils import np_utils\n",
        "\n",
        "from keras.datasets import mnist\n",
        "import numpy as np\n",
        "import pandas as pd\n",
        "import matplotlib.pyplot as plt\n",
        "%matplotlib inline\n",
        "from keras.datasets import mnist\n",
        "from keras.models import Sequential\n",
        "from keras.layers import Dense, Dropout, Activation, Flatten\n",
        "from keras.optimizers import Adam\n",
        "from keras.layers.normalization import BatchNormalization\n",
        "from keras.utils import np_utils\n",
        "from keras.layers import Conv2D, MaxPooling2D, ZeroPadding2D, GlobalAveragePooling2D\n",
        "from keras.layers.advanced_activations import LeakyReLU \n",
        "from keras.preprocessing.image import ImageDataGenerator"
      ],
      "execution_count": 0,
      "outputs": []
    },
    {
      "metadata": {
        "id": "zByEi95J86RD",
        "colab_type": "text"
      },
      "cell_type": "markdown",
      "source": [
        "### Load pre-shuffled MNIST data into train and test sets"
      ]
    },
    {
      "metadata": {
        "id": "7eRM0QWN83PV",
        "colab_type": "code",
        "outputId": "e4ed21a8-192b-4b72-c6e1-2fdfb2265e6d",
        "colab": {
          "base_uri": "https://localhost:8080/",
          "height": 52
        }
      },
      "cell_type": "code",
      "source": [
        "(X_train, y_train), (X_test, y_test) = mnist.load_data()"
      ],
      "execution_count": 0,
      "outputs": [
        {
          "output_type": "stream",
          "text": [
            "Downloading data from https://s3.amazonaws.com/img-datasets/mnist.npz\n",
            "11493376/11490434 [==============================] - 0s 0us/step\n"
          ],
          "name": "stdout"
        }
      ]
    },
    {
      "metadata": {
        "id": "4a4Be72j8-ZC",
        "colab_type": "code",
        "outputId": "d16da548-4a9e-438a-b2c8-52502938526c",
        "colab": {
          "base_uri": "https://localhost:8080/",
          "height": 300
        }
      },
      "cell_type": "code",
      "source": [
        "print (X_train.shape)\n",
        "from matplotlib import pyplot as plt\n",
        "%matplotlib inline\n",
        "plt.imshow(X_train[0])"
      ],
      "execution_count": 0,
      "outputs": [
        {
          "output_type": "stream",
          "text": [
            "(60000, 28, 28)\n"
          ],
          "name": "stdout"
        },
        {
          "output_type": "execute_result",
          "data": {
            "text/plain": [
              "<matplotlib.image.AxesImage at 0x7f81cbf7ecc0>"
            ]
          },
          "metadata": {
            "tags": []
          },
          "execution_count": 4
        },
        {
          "output_type": "display_data",
          "data": {
            "image/png": "[encoded data removed]",
            "text/plain": [
              "<Figure size 432x288 with 1 Axes>"
            ]
          },
          "metadata": {
            "tags": []
          }
        }
      ]
    },
    {
      "metadata": {
        "id": "dkmprriw9AnZ",
        "colab_type": "code",
        "colab": {}
      },
      "cell_type": "code",
      "source": [
        "X_train = X_train.reshape(X_train.shape[0], 28, 28,1)\n",
        "X_test = X_test.reshape(X_test.shape[0], 28, 28,1)"
      ],
      "execution_count": 0,
      "outputs": []
    },
    {
      "metadata": {
        "id": "X2m4YS4E9CRh",
        "colab_type": "code",
        "colab": {}
      },
      "cell_type": "code",
      "source": [
        "X_train = X_train.astype('float32')\n",
        "X_test = X_test.astype('float32')\n",
        "X_train /= 255\n",
        "X_test /= 255"
      ],
      "execution_count": 0,
      "outputs": []
    },
    {
      "metadata": {
        "id": "0Mn0vAYD9DvB",
        "colab_type": "code",
        "outputId": "d6dae2b2-53f2-4c70-99e2-4702905a40f4",
        "colab": {
          "base_uri": "https://localhost:8080/",
          "height": 34
        }
      },
      "cell_type": "code",
      "source": [
        "y_train[:10]"
      ],
      "execution_count": 0,
      "outputs": [
        {
          "output_type": "execute_result",
          "data": {
            "text/plain": [
              "array([5, 0, 4, 1, 9, 2, 1, 3, 1, 4], dtype=uint8)"
            ]
          },
          "metadata": {
            "tags": []
          },
          "execution_count": 10
        }
      ]
    },
    {
      "metadata": {
        "id": "ZG8JiXR39FHC",
        "colab_type": "code",
        "colab": {}
      },
      "cell_type": "code",
      "source": [
        "# Convert 1-dimensional class arrays to 10-dimensional class matrices\n",
        "Y_train = np_utils.to_categorical(y_train, 10)\n",
        "Y_test = np_utils.to_categorical(y_test, 10)"
      ],
      "execution_count": 0,
      "outputs": []
    },
    {
      "metadata": {
        "id": "fYlFRvKS9HMB",
        "colab_type": "code",
        "outputId": "107888d7-bc50-453c-b9a1-daa248fec869",
        "colab": {
          "base_uri": "https://localhost:8080/",
          "height": 194
        }
      },
      "cell_type": "code",
      "source": [
        "Y_train[:10]\n"
      ],
      "execution_count": 0,
      "outputs": [
        {
          "output_type": "execute_result",
          "data": {
            "text/plain": [
              "array([[0., 0., 0., 0., 0., 1., 0., 0., 0., 0.],\n",
              "       [1., 0., 0., 0., 0., 0., 0., 0., 0., 0.],\n",
              "       [0., 0., 0., 0., 1., 0., 0., 0., 0., 0.],\n",
              "       [0., 1., 0., 0., 0., 0., 0., 0., 0., 0.],\n",
              "       [0., 0., 0., 0., 0., 0., 0., 0., 0., 1.],\n",
              "       [0., 0., 1., 0., 0., 0., 0., 0., 0., 0.],\n",
              "       [0., 1., 0., 0., 0., 0., 0., 0., 0., 0.],\n",
              "       [0., 0., 0., 1., 0., 0., 0., 0., 0., 0.],\n",
              "       [0., 1., 0., 0., 0., 0., 0., 0., 0., 0.],\n",
              "       [0., 0., 0., 0., 1., 0., 0., 0., 0., 0.]], dtype=float32)"
            ]
          },
          "metadata": {
            "tags": []
          },
          "execution_count": 12
        }
      ]
    },
    {
      "metadata": {
        "id": "osKqT73Q9JJB",
        "colab_type": "code",
        "outputId": "45035a46-eb7e-4892-bbdf-84498f9b1c11",
        "colab": {
          "base_uri": "https://localhost:8080/",
          "height": 143
        }
      },
      "cell_type": "code",
      "source": [
        "from keras.layers import Activation\n",
        "model = Sequential()\n",
        " \n",
        "model.add(Convolution2D(32, 3, 3, activation='relu', input_shape=(28,28,1), border_mode='same'))\n",
        "model.add(Convolution2D(32, 3, 3, activation='relu'))\n",
        "\n",
        "model.add(MaxPooling2D(pool_size=(2,2)))\n",
        "\n",
        "model.add(Convolution2D(16, 3, 3, activation='relu'))\n",
        "\n",
        "model.add(MaxPooling2D(pool_size=(2,2)))\n",
        "\n",
        "model.add(Convolution2D(10, 1, activation='relu'))\n",
        "model.add(Convolution2D(10, 5))\n",
        "model.add(Flatten())\n",
        "model.add(Activation('softmax'))"
      ],
      "execution_count": 0,
      "outputs": [
        {
          "output_type": "stream",
          "text": [
            "/usr/local/lib/python3.6/dist-packages/ipykernel_launcher.py:4: UserWarning: Update your `Conv2D` call to the Keras 2 API: `Conv2D(32, (3, 3), activation=\"relu\", input_shape=(28, 28, 1..., padding=\"same\")`\n",
            "  after removing the cwd from sys.path.\n",
            "/usr/local/lib/python3.6/dist-packages/ipykernel_launcher.py:5: UserWarning: Update your `Conv2D` call to the Keras 2 API: `Conv2D(32, (3, 3), activation=\"relu\")`\n",
            "  \"\"\"\n",
            "/usr/local/lib/python3.6/dist-packages/ipykernel_launcher.py:9: UserWarning: Update your `Conv2D` call to the Keras 2 API: `Conv2D(16, (3, 3), activation=\"relu\")`\n",
            "  if __name__ == '__main__':\n"
          ],
          "name": "stderr"
        }
      ]
    },
    {
      "metadata": {
        "id": "TzdAYg1k9K7Z",
        "colab_type": "code",
        "outputId": "d46286c9-a8bc-411d-d715-bb47a57d885b",
        "colab": {
          "base_uri": "https://localhost:8080/",
          "height": 461
        }
      },
      "cell_type": "code",
      "source": [
        "model.summary()"
      ],
      "execution_count": 0,
      "outputs": [
        {
          "output_type": "stream",
          "text": [
            "_________________________________________________________________\n",
            "Layer (type)                 Output Shape              Param #   \n",
            "=================================================================\n",
            "conv2d_53 (Conv2D)           (None, 28, 28, 32)        320       \n",
            "_________________________________________________________________\n",
            "conv2d_54 (Conv2D)           (None, 26, 26, 32)        9248      \n",
            "_________________________________________________________________\n",
            "max_pooling2d_20 (MaxPooling (None, 13, 13, 32)        0         \n",
            "_________________________________________________________________\n",
            "conv2d_55 (Conv2D)           (None, 11, 11, 16)        4624      \n",
            "_________________________________________________________________\n",
            "max_pooling2d_21 (MaxPooling (None, 5, 5, 16)          0         \n",
            "_________________________________________________________________\n",
            "conv2d_56 (Conv2D)           (None, 5, 5, 10)          170       \n",
            "_________________________________________________________________\n",
            "conv2d_57 (Conv2D)           (None, 1, 1, 10)          2510      \n",
            "_________________________________________________________________\n",
            "flatten_10 (Flatten)         (None, 10)                0         \n",
            "_________________________________________________________________\n",
            "activation_10 (Activation)   (None, 10)                0         \n",
            "=================================================================\n",
            "Total params: 16,872\n",
            "Trainable params: 16,872\n",
            "Non-trainable params: 0\n",
            "_________________________________________________________________\n"
          ],
          "name": "stdout"
        }
      ]
    },
    {
      "metadata": {
        "id": "Zp6SuGrL9M3h",
        "colab_type": "code",
        "colab": {}
      },
      "cell_type": "code",
      "source": [
        "model.compile(loss='categorical_crossentropy',\n",
        "             optimizer='adam',\n",
        "             metrics=['accuracy'])"
      ],
      "execution_count": 0,
      "outputs": []
    },
    {
      "metadata": {
        "id": "Zm988sozHb3o",
        "colab_type": "code",
        "colab": {}
      },
      "cell_type": "code",
      "source": [
        "gen = ImageDataGenerator(rotation_range=8, width_shift_range=0.08, shear_range=0.3,\n",
        "                         height_shift_range=0.08, zoom_range=0.08)\n",
        "\n",
        "test_gen = ImageDataGenerator()"
      ],
      "execution_count": 0,
      "outputs": []
    },
    {
      "metadata": {
        "id": "LpgAO8wsH2xD",
        "colab_type": "code",
        "colab": {}
      },
      "cell_type": "code",
      "source": [
        "train_generator = gen.flow(X_train, Y_train, batch_size=64)\n",
        "test_generator = test_gen.flow(X_test, Y_test, batch_size=64)"
      ],
      "execution_count": 0,
      "outputs": []
    },
    {
      "metadata": {
        "id": "4xWoKhPY9Of5",
        "colab_type": "code",
        "outputId": "425003a7-a975-4088-d0c4-253d1c0ade89",
        "colab": {
          "base_uri": "https://localhost:8080/",
          "height": 1101
        }
      },
      "cell_type": "code",
      "source": [
        "# model.fit(X_train, Y_train, batch_size=8192, nb_epoch=50, verbose=1)\n",
        "\n",
        "\n",
        "model.fit_generator(train_generator, steps_per_epoch=60000//512, epochs=30, \n",
        "                    validation_data=test_generator, validation_steps=10000//512)"
      ],
      "execution_count": 0,
      "outputs": [
        {
          "output_type": "stream",
          "text": [
            "Epoch 1/30\n",
            "117/117 [==============================] - 2s 21ms/step - loss: 0.0357 - acc: 0.9890 - val_loss: 0.0185 - val_acc: 0.9967\n",
            "Epoch 2/30\n",
            "117/117 [==============================] - 3s 27ms/step - loss: 0.0381 - acc: 0.9880 - val_loss: 0.0221 - val_acc: 0.9918\n",
            "Epoch 3/30\n",
            "117/117 [==============================] - 3s 27ms/step - loss: 0.0316 - acc: 0.9896 - val_loss: 0.0198 - val_acc: 0.9910\n",
            "Epoch 4/30\n",
            "117/117 [==============================] - 3s 27ms/step - loss: 0.0357 - acc: 0.9884 - val_loss: 0.0281 - val_acc: 0.9934\n",
            "Epoch 5/30\n",
            "117/117 [==============================] - 3s 28ms/step - loss: 0.0298 - acc: 0.9911 - val_loss: 0.0353 - val_acc: 0.9901\n",
            "Epoch 6/30\n",
            "117/117 [==============================] - 3s 27ms/step - loss: 0.0421 - acc: 0.9862 - val_loss: 0.0364 - val_acc: 0.9880\n",
            "Epoch 7/30\n",
            "117/117 [==============================] - 3s 27ms/step - loss: 0.0339 - acc: 0.9889 - val_loss: 0.0321 - val_acc: 0.9885\n",
            "Epoch 8/30\n",
            "117/117 [==============================] - 3s 27ms/step - loss: 0.0337 - acc: 0.9885 - val_loss: 0.0204 - val_acc: 0.9934\n",
            "Epoch 9/30\n",
            "117/117 [==============================] - 3s 28ms/step - loss: 0.0355 - acc: 0.9893 - val_loss: 0.0207 - val_acc: 0.9934\n",
            "Epoch 10/30\n",
            "117/117 [==============================] - 4s 31ms/step - loss: 0.0389 - acc: 0.9885 - val_loss: 0.0205 - val_acc: 0.9934\n",
            "Epoch 11/30\n",
            "117/117 [==============================] - 3s 29ms/step - loss: 0.0334 - acc: 0.9894 - val_loss: 0.0216 - val_acc: 0.9926\n",
            "Epoch 12/30\n",
            "117/117 [==============================] - 3s 29ms/step - loss: 0.0383 - acc: 0.9861 - val_loss: 0.0212 - val_acc: 0.9934\n",
            "Epoch 13/30\n",
            "117/117 [==============================] - 3s 28ms/step - loss: 0.0367 - acc: 0.9877 - val_loss: 0.0356 - val_acc: 0.9901\n",
            "Epoch 14/30\n",
            "117/117 [==============================] - 3s 29ms/step - loss: 0.0314 - acc: 0.9899 - val_loss: 0.0163 - val_acc: 0.9966\n",
            "Epoch 15/30\n",
            "117/117 [==============================] - 3s 28ms/step - loss: 0.0318 - acc: 0.9890 - val_loss: 0.0164 - val_acc: 0.9942\n",
            "Epoch 16/30\n",
            "117/117 [==============================] - 3s 29ms/step - loss: 0.0364 - acc: 0.9892 - val_loss: 0.0257 - val_acc: 0.9951\n",
            "Epoch 17/30\n",
            "117/117 [==============================] - 3s 28ms/step - loss: 0.0369 - acc: 0.9889 - val_loss: 0.0218 - val_acc: 0.9951\n",
            "Epoch 18/30\n",
            "117/117 [==============================] - 3s 28ms/step - loss: 0.0344 - acc: 0.9886 - val_loss: 0.0190 - val_acc: 0.9910\n",
            "Epoch 19/30\n",
            "117/117 [==============================] - 3s 29ms/step - loss: 0.0358 - acc: 0.9869 - val_loss: 0.0210 - val_acc: 0.9934\n",
            "Epoch 20/30\n",
            "117/117 [==============================] - 3s 29ms/step - loss: 0.0425 - acc: 0.9866 - val_loss: 0.0245 - val_acc: 0.9951\n",
            "Epoch 21/30\n",
            "117/117 [==============================] - 3s 29ms/step - loss: 0.0364 - acc: 0.9885 - val_loss: 0.0368 - val_acc: 0.9901\n",
            "Epoch 22/30\n",
            "117/117 [==============================] - 3s 29ms/step - loss: 0.0368 - acc: 0.9878 - val_loss: 0.0369 - val_acc: 0.9854\n",
            "Epoch 23/30\n",
            "117/117 [==============================] - 3s 28ms/step - loss: 0.0370 - acc: 0.9882 - val_loss: 0.0257 - val_acc: 0.9910\n",
            "Epoch 24/30\n",
            "117/117 [==============================] - 3s 29ms/step - loss: 0.0322 - acc: 0.9892 - val_loss: 0.0183 - val_acc: 0.9942\n",
            "Epoch 25/30\n",
            "117/117 [==============================] - 3s 29ms/step - loss: 0.0302 - acc: 0.9912 - val_loss: 0.0254 - val_acc: 0.9926\n",
            "Epoch 26/30\n",
            "117/117 [==============================] - 3s 28ms/step - loss: 0.0470 - acc: 0.9873 - val_loss: 0.0169 - val_acc: 0.9959\n",
            "Epoch 27/30\n",
            "117/117 [==============================] - 3s 29ms/step - loss: 0.0331 - acc: 0.9899 - val_loss: 0.0182 - val_acc: 0.9934\n",
            "Epoch 28/30\n",
            "117/117 [==============================] - 3s 28ms/step - loss: 0.0379 - acc: 0.9884 - val_loss: 0.0294 - val_acc: 0.9910\n",
            "Epoch 29/30\n",
            "117/117 [==============================] - 3s 29ms/step - loss: 0.0292 - acc: 0.9904 - val_loss: 0.0248 - val_acc: 0.9918\n",
            "Epoch 30/30\n",
            "117/117 [==============================] - 3s 29ms/step - loss: 0.0335 - acc: 0.9903 - val_loss: 0.0253 - val_acc: 0.9918\n"
          ],
          "name": "stdout"
        },
        {
          "output_type": "execute_result",
          "data": {
            "text/plain": [
              "<keras.callbacks.History at 0x7f81c6bd14a8>"
            ]
          },
          "metadata": {
            "tags": []
          },
          "execution_count": 77
        }
      ]
    },
    {
      "metadata": {
        "id": "AtsH-lLk-eLb",
        "colab_type": "code",
        "outputId": "50745e2a-52ff-4353-a90a-5f3a1a6194cf",
        "colab": {
          "base_uri": "https://localhost:8080/",
          "height": 34
        }
      },
      "cell_type": "code",
      "source": [
        "score = model.evaluate(X_test, Y_test, verbose=0)\n",
        "print(score)"
      ],
      "execution_count": 0,
      "outputs": [
        {
          "output_type": "stream",
          "text": [
            "[0.0209834477995988, 0.9933]\n"
          ],
          "name": "stdout"
        }
      ]
    },
    {
      "metadata": {
        "id": "OCWoJkwE9suh",
        "colab_type": "code",
        "colab": {}
      },
      "cell_type": "code",
      "source": [
        "y_pred = model.predict(X_test)"
      ],
      "execution_count": 0,
      "outputs": []
    },
    {
      "metadata": {
        "id": "Ym7iCFBm9uBs",
        "colab_type": "code",
        "outputId": "fa4426db-cfd9-4525-8330-b49d8f354899",
        "colab": {
          "base_uri": "https://localhost:8080/",
          "height": 354
        }
      },
      "cell_type": "code",
      "source": [
        "print(y_pred[:9])\n",
        "print(y_test[:9])"
      ],
      "execution_count": 0,
      "outputs": [
        {
          "output_type": "stream",
          "text": [
            "[[1.3265484e-11 1.2332599e-10 6.0237659e-07 7.6177527e-09 4.4916131e-14\n",
            "  2.3835439e-11 1.5232292e-15 9.9999893e-01 4.3272226e-09 4.8290462e-07]\n",
            " [1.6310563e-07 6.9885800e-07 9.9997747e-01 1.7374567e-05 8.5840819e-09\n",
            "  1.1445616e-11 2.2831694e-06 7.4528792e-08 1.7773203e-06 9.5162449e-08]\n",
            " [4.6697122e-09 9.9995291e-01 3.3381684e-07 3.4475690e-08 3.6001526e-05\n",
            "  1.0313327e-06 1.4719702e-06 2.6812643e-06 1.3276392e-07 5.3211193e-06]\n",
            " [9.9987161e-01 1.0870575e-15 2.8380107e-08 2.2474740e-10 6.7513628e-10\n",
            "  5.3711568e-07 7.1917559e-05 3.1681272e-11 5.0936815e-05 4.9957921e-06]\n",
            " [8.9640006e-14 2.5778274e-11 1.1423680e-09 1.8015444e-14 9.9999976e-01\n",
            "  2.0744361e-13 5.8285104e-12 1.8411539e-09 2.2359174e-10 2.2729147e-07]\n",
            " [8.6253031e-09 9.9989665e-01 2.6548821e-07 3.8651811e-11 9.3440278e-05\n",
            "  1.0201817e-08 1.4504201e-06 7.6351807e-06 2.4751923e-08 5.7942736e-07]\n",
            " [3.3116364e-11 5.7585231e-10 5.8560879e-08 5.9988012e-13 9.9999177e-01\n",
            "  1.2302892e-09 7.5053991e-11 1.9248271e-11 4.3011337e-06 3.9731631e-06]\n",
            " [4.0504219e-08 8.2882217e-09 3.5259412e-03 1.3117973e-07 3.7012383e-04\n",
            "  1.2939996e-05 2.1063231e-08 1.9212667e-08 7.1164384e-03 9.8897421e-01]\n",
            " [5.6037916e-06 2.2477965e-15 1.2983020e-06 4.4109689e-09 5.2651828e-08\n",
            "  8.7200475e-01 4.1956869e-03 5.4875667e-11 1.2379162e-01 9.5828523e-07]]\n",
            "[7 2 1 0 4 1 4 9 5]\n"
          ],
          "name": "stdout"
        }
      ]
    },
    {
      "metadata": {
        "id": "CT--y98_dr2T",
        "colab_type": "code",
        "outputId": "3f97e83a-7602-421d-cf5f-a356e05a2c3e",
        "colab": {
          "base_uri": "https://localhost:8080/",
          "height": 176
        }
      },
      "cell_type": "code",
      "source": [
        "layer_dict = dict([(layer.name, layer) for layer in model.layers])\n",
        "layer_dict"
      ],
      "execution_count": 0,
      "outputs": [
        {
          "output_type": "execute_result",
          "data": {
            "text/plain": [
              "{'activation_10': <keras.layers.core.Activation at 0x7f81c78b7208>,\n",
              " 'conv2d_53': <keras.layers.convolutional.Conv2D at 0x7f81c81d2438>,\n",
              " 'conv2d_54': <keras.layers.convolutional.Conv2D at 0x7f81c81d2dd8>,\n",
              " 'conv2d_55': <keras.layers.convolutional.Conv2D at 0x7f81c81d2b38>,\n",
              " 'conv2d_56': <keras.layers.convolutional.Conv2D at 0x7f81c81d22e8>,\n",
              " 'conv2d_57': <keras.layers.convolutional.Conv2D at 0x7f81c78f9198>,\n",
              " 'flatten_10': <keras.layers.core.Flatten at 0x7f81c7909c50>,\n",
              " 'max_pooling2d_20': <keras.layers.pooling.MaxPooling2D at 0x7f81c7dad358>,\n",
              " 'max_pooling2d_21': <keras.layers.pooling.MaxPooling2D at 0x7f81c78f9518>}"
            ]
          },
          "metadata": {
            "tags": []
          },
          "execution_count": 73
        }
      ]
    },
    {
      "metadata": {
        "id": "2GY4Upv4dsUR",
        "colab_type": "code",
        "outputId": "95de316e-6ab5-44a4-b9e9-f1ea36d3fbe4",
        "colab": {
          "base_uri": "https://localhost:8080/",
          "height": 856
        }
      },
      "cell_type": "code",
      "source": [
        "import numpy as np\n",
        "from matplotlib import pyplot as plt\n",
        "from keras import backend as K\n",
        "%matplotlib inline\n",
        "# util function to convert a tensor into a valid image\n",
        "def deprocess_image(x):\n",
        "    # normalize tensor: center on 0., ensure std is 0.1\n",
        "    x -= x.mean()\n",
        "    x /= (x.std() + 1e-5)\n",
        "    x *= 0.1\n",
        "\n",
        "    # clip to [0, 1]\n",
        "    x += 0.5\n",
        "    x = np.clip(x, 0, 1)\n",
        "\n",
        "    # convert to RGB array\n",
        "    x *= 255\n",
        "    #x = x.transpose((1, 2, 0))\n",
        "    x = np.clip(x, 0, 255).astype('uint8')\n",
        "    return x\n",
        "\n",
        "def vis_img_in_filter(img = np.array(X_train[2]).reshape((1, 28, 28, 1)).astype(np.float64), \n",
        "                      layer_name = 'conv2d_53'):\n",
        "    print(layer_name)\n",
        "    layer_output = layer_dict[layer_name].output\n",
        "    img_ascs = list()\n",
        "    for filter_index in range(layer_output.shape[3]):\n",
        "        # build a loss function that maximizes the activation\n",
        "        # of the nth filter of the layer considered\n",
        "        loss = K.mean(layer_output[:, :, :, filter_index])\n",
        "        \n",
        "\n",
        "        # compute the gradient of the input picture wrt this loss\n",
        "        grads = K.gradients(loss, model.input)[0]\n",
        "        \n",
        "\n",
        "        # normalization trick: we normalize the gradient\n",
        "        grads /= (K.sqrt(K.mean(K.square(grads))) + 1e-5)\n",
        "\n",
        "        # this function returns the loss and grads given the input picture\n",
        "        iterate = K.function([model.input], [loss, grads])\n",
        "\n",
        "        # step size for gradient ascent\n",
        "        step = 5\n",
        "\n",
        "        img_asc = np.array(img)\n",
        "        # run gradient ascent for 20 steps\n",
        "        for i in range(20):\n",
        "            loss_value, grads_value = iterate([img_asc])\n",
        "            img_asc += grads_value * step\n",
        "\n",
        "        img_asc = img_asc[0]\n",
        "        img_ascs.append(deprocess_image(img_asc).reshape((28, 28)))\n",
        "        \n",
        "    if layer_output.shape[3] >= 35:\n",
        "        plot_x, plot_y = 6, 6\n",
        "    elif layer_output.shape[3] >= 23:\n",
        "        plot_x, plot_y = 4, 6\n",
        "    elif layer_output.shape[3] >= 11:\n",
        "        plot_x, plot_y = 2, 6\n",
        "    else:\n",
        "        plot_x, plot_y = 1, 2\n",
        "    fig, ax = plt.subplots(plot_x, plot_y, figsize = (12, 12))\n",
        "    ax[0, 0].imshow(img.reshape((28, 28)), cmap = 'gray')\n",
        "    ax[0, 0].set_title('Input image')\n",
        "    fig.suptitle('Input image and %s filters' % (layer_name,))\n",
        "    fig.tight_layout(pad = 0.3, rect = [0, 0, 0.9, 0.9])\n",
        "    for (x, y) in [(i, j) for i in range(plot_x) for j in range(plot_y)]:\n",
        "        if x == 0 and y == 0:\n",
        "            continue\n",
        "        ax[x, y].imshow(img_ascs[x * plot_y + y - 1], cmap = 'gray')\n",
        "        ax[x, y].set_title('filter %d' % (x * plot_y + y - 1))\n",
        "\n",
        "vis_img_in_filter()"
      ],
      "execution_count": 0,
      "outputs": [
        {
          "output_type": "stream",
          "text": [
            "conv2d_53\n"
          ],
          "name": "stdout"
        },
        {
          "output_type": "display_data",
          "data": {
            "image/png": "[encoded data removed]",
            "text/plain": [
              "<Figure size 864x864 with 24 Axes>"
            ]
          },
          "metadata": {
            "tags": []
          }
        }
      ]
    },
    {
      "metadata": {
        "id": "9tvptcn8dxvp",
        "colab_type": "code",
        "colab": {}
      },
      "cell_type": "code",
      "source": [
        ""
      ],
      "execution_count": 0,
      "outputs": []
    }
  ]
}